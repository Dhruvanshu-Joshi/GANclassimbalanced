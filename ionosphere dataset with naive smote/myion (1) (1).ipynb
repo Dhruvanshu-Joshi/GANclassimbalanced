{
 "cells": [
  {
   "cell_type": "code",
   "execution_count": 1,
   "metadata": {
    "_cell_guid": "b1076dfc-b9ad-4769-8c92-a6c4dae69d19",
    "_uuid": "8f2839f25d086af736a60e9eeb907d3b93b6e0e5"
   },
   "outputs": [
    {
     "name": "stdout",
     "output_type": "stream",
     "text": [
      "/kaggle/input/uci-ionosphere/ionosphere_data_kaggle.csv\n"
     ]
    }
   ],
   "source": [
    "# This Python 3 environment comes with many helpful analytics libraries installed\n",
    "# It is defined by the kaggle/python Docker image: https://github.com/kaggle/docker-python\n",
    "# For example, here's several helpful packages to load\n",
    "\n",
    "import numpy as np # linear algebra\n",
    "import pandas as pd # data processing, CSV file I/O (e.g. pd.read_csv)\n",
    "\n",
    "# Input data files are available in the read-only \"../input/\" directory\n",
    "# For example, running this (by clicking run or pressing Shift+Enter) will list all files under the input directory\n",
    "\n",
    "import os\n",
    "for dirname, _, filenames in os.walk('/kaggle/input'):\n",
    "    for filename in filenames:\n",
    "        print(os.path.join(dirname, filename))\n",
    "\n",
    "# You can write up to 20GB to the current directory (/kaggle/working/) that gets preserved as output when you create a version using \"Save & Run All\" \n",
    "# You can also write temporary files to /kaggle/temp/, but they won't be saved outside of the current session"
   ]
  },
  {
   "cell_type": "code",
   "execution_count": 2,
   "metadata": {
    "_cell_guid": "79c7e3d0-c299-4dcb-8224-4455121ee9b0",
    "_uuid": "d629ff2d2480ee46fbb7e2d37f6b5fab8052498a"
   },
   "outputs": [],
   "source": [
    "import pandas as pd\n",
    "import numpy as np\n",
    "from keras.models import Sequential\n",
    "from keras.layers import Dense\n",
    "from keras.optimizers import SGD\n",
    "from sklearn.preprocessing import LabelEncoder"
   ]
  },
  {
   "cell_type": "code",
   "execution_count": 3,
   "metadata": {},
   "outputs": [],
   "source": [
    "# load dataset\n",
    "data = pd.read_csv(\"/kaggle/input/uci-ionosphere/ionosphere_data_kaggle.csv\",delimiter=\",\")"
   ]
  },
  {
   "cell_type": "code",
   "execution_count": 4,
   "metadata": {},
   "outputs": [
    {
     "data": {
      "text/html": [
       "<div>\n",
       "<style scoped>\n",
       "    .dataframe tbody tr th:only-of-type {\n",
       "        vertical-align: middle;\n",
       "    }\n",
       "\n",
       "    .dataframe tbody tr th {\n",
       "        vertical-align: top;\n",
       "    }\n",
       "\n",
       "    .dataframe thead th {\n",
       "        text-align: right;\n",
       "    }\n",
       "</style>\n",
       "<table border=\"1\" class=\"dataframe\">\n",
       "  <thead>\n",
       "    <tr style=\"text-align: right;\">\n",
       "      <th></th>\n",
       "      <th>feature1</th>\n",
       "      <th>feature2</th>\n",
       "      <th>feature3</th>\n",
       "      <th>feature4</th>\n",
       "      <th>feature5</th>\n",
       "      <th>feature6</th>\n",
       "      <th>feature7</th>\n",
       "      <th>feature8</th>\n",
       "      <th>feature9</th>\n",
       "      <th>feature10</th>\n",
       "      <th>...</th>\n",
       "      <th>feature26</th>\n",
       "      <th>feature27</th>\n",
       "      <th>feature28</th>\n",
       "      <th>feature29</th>\n",
       "      <th>feature30</th>\n",
       "      <th>feature31</th>\n",
       "      <th>feature32</th>\n",
       "      <th>feature33</th>\n",
       "      <th>feature34</th>\n",
       "      <th>label</th>\n",
       "    </tr>\n",
       "  </thead>\n",
       "  <tbody>\n",
       "    <tr>\n",
       "      <th>0</th>\n",
       "      <td>1</td>\n",
       "      <td>0</td>\n",
       "      <td>0.99539</td>\n",
       "      <td>-0.05889</td>\n",
       "      <td>0.85243</td>\n",
       "      <td>0.02306</td>\n",
       "      <td>0.83398</td>\n",
       "      <td>-0.37708</td>\n",
       "      <td>1.00000</td>\n",
       "      <td>0.03760</td>\n",
       "      <td>...</td>\n",
       "      <td>-0.51171</td>\n",
       "      <td>0.41078</td>\n",
       "      <td>-0.46168</td>\n",
       "      <td>0.21266</td>\n",
       "      <td>-0.34090</td>\n",
       "      <td>0.42267</td>\n",
       "      <td>-0.54487</td>\n",
       "      <td>0.18641</td>\n",
       "      <td>-0.45300</td>\n",
       "      <td>g</td>\n",
       "    </tr>\n",
       "    <tr>\n",
       "      <th>1</th>\n",
       "      <td>1</td>\n",
       "      <td>0</td>\n",
       "      <td>1.00000</td>\n",
       "      <td>-0.18829</td>\n",
       "      <td>0.93035</td>\n",
       "      <td>-0.36156</td>\n",
       "      <td>-0.10868</td>\n",
       "      <td>-0.93597</td>\n",
       "      <td>1.00000</td>\n",
       "      <td>-0.04549</td>\n",
       "      <td>...</td>\n",
       "      <td>-0.26569</td>\n",
       "      <td>-0.20468</td>\n",
       "      <td>-0.18401</td>\n",
       "      <td>-0.19040</td>\n",
       "      <td>-0.11593</td>\n",
       "      <td>-0.16626</td>\n",
       "      <td>-0.06288</td>\n",
       "      <td>-0.13738</td>\n",
       "      <td>-0.02447</td>\n",
       "      <td>b</td>\n",
       "    </tr>\n",
       "    <tr>\n",
       "      <th>2</th>\n",
       "      <td>1</td>\n",
       "      <td>0</td>\n",
       "      <td>1.00000</td>\n",
       "      <td>-0.03365</td>\n",
       "      <td>1.00000</td>\n",
       "      <td>0.00485</td>\n",
       "      <td>1.00000</td>\n",
       "      <td>-0.12062</td>\n",
       "      <td>0.88965</td>\n",
       "      <td>0.01198</td>\n",
       "      <td>...</td>\n",
       "      <td>-0.40220</td>\n",
       "      <td>0.58984</td>\n",
       "      <td>-0.22145</td>\n",
       "      <td>0.43100</td>\n",
       "      <td>-0.17365</td>\n",
       "      <td>0.60436</td>\n",
       "      <td>-0.24180</td>\n",
       "      <td>0.56045</td>\n",
       "      <td>-0.38238</td>\n",
       "      <td>g</td>\n",
       "    </tr>\n",
       "    <tr>\n",
       "      <th>3</th>\n",
       "      <td>1</td>\n",
       "      <td>0</td>\n",
       "      <td>1.00000</td>\n",
       "      <td>-0.45161</td>\n",
       "      <td>1.00000</td>\n",
       "      <td>1.00000</td>\n",
       "      <td>0.71216</td>\n",
       "      <td>-1.00000</td>\n",
       "      <td>0.00000</td>\n",
       "      <td>0.00000</td>\n",
       "      <td>...</td>\n",
       "      <td>0.90695</td>\n",
       "      <td>0.51613</td>\n",
       "      <td>1.00000</td>\n",
       "      <td>1.00000</td>\n",
       "      <td>-0.20099</td>\n",
       "      <td>0.25682</td>\n",
       "      <td>1.00000</td>\n",
       "      <td>-0.32382</td>\n",
       "      <td>1.00000</td>\n",
       "      <td>b</td>\n",
       "    </tr>\n",
       "    <tr>\n",
       "      <th>4</th>\n",
       "      <td>1</td>\n",
       "      <td>0</td>\n",
       "      <td>1.00000</td>\n",
       "      <td>-0.02401</td>\n",
       "      <td>0.94140</td>\n",
       "      <td>0.06531</td>\n",
       "      <td>0.92106</td>\n",
       "      <td>-0.23255</td>\n",
       "      <td>0.77152</td>\n",
       "      <td>-0.16399</td>\n",
       "      <td>...</td>\n",
       "      <td>-0.65158</td>\n",
       "      <td>0.13290</td>\n",
       "      <td>-0.53206</td>\n",
       "      <td>0.02431</td>\n",
       "      <td>-0.62197</td>\n",
       "      <td>-0.05707</td>\n",
       "      <td>-0.59573</td>\n",
       "      <td>-0.04608</td>\n",
       "      <td>-0.65697</td>\n",
       "      <td>g</td>\n",
       "    </tr>\n",
       "  </tbody>\n",
       "</table>\n",
       "<p>5 rows × 35 columns</p>\n",
       "</div>"
      ],
      "text/plain": [
       "   feature1  feature2  feature3  feature4  feature5  feature6  feature7  \\\n",
       "0         1         0   0.99539  -0.05889   0.85243   0.02306   0.83398   \n",
       "1         1         0   1.00000  -0.18829   0.93035  -0.36156  -0.10868   \n",
       "2         1         0   1.00000  -0.03365   1.00000   0.00485   1.00000   \n",
       "3         1         0   1.00000  -0.45161   1.00000   1.00000   0.71216   \n",
       "4         1         0   1.00000  -0.02401   0.94140   0.06531   0.92106   \n",
       "\n",
       "   feature8  feature9  feature10  ...  feature26  feature27  feature28  \\\n",
       "0  -0.37708   1.00000    0.03760  ...   -0.51171    0.41078   -0.46168   \n",
       "1  -0.93597   1.00000   -0.04549  ...   -0.26569   -0.20468   -0.18401   \n",
       "2  -0.12062   0.88965    0.01198  ...   -0.40220    0.58984   -0.22145   \n",
       "3  -1.00000   0.00000    0.00000  ...    0.90695    0.51613    1.00000   \n",
       "4  -0.23255   0.77152   -0.16399  ...   -0.65158    0.13290   -0.53206   \n",
       "\n",
       "   feature29  feature30  feature31  feature32  feature33  feature34  label  \n",
       "0    0.21266   -0.34090    0.42267   -0.54487    0.18641   -0.45300      g  \n",
       "1   -0.19040   -0.11593   -0.16626   -0.06288   -0.13738   -0.02447      b  \n",
       "2    0.43100   -0.17365    0.60436   -0.24180    0.56045   -0.38238      g  \n",
       "3    1.00000   -0.20099    0.25682    1.00000   -0.32382    1.00000      b  \n",
       "4    0.02431   -0.62197   -0.05707   -0.59573   -0.04608   -0.65697      g  \n",
       "\n",
       "[5 rows x 35 columns]"
      ]
     },
     "execution_count": 4,
     "metadata": {},
     "output_type": "execute_result"
    }
   ],
   "source": [
    "data.head()"
   ]
  },
  {
   "cell_type": "code",
   "execution_count": 5,
   "metadata": {},
   "outputs": [
    {
     "name": "stdout",
     "output_type": "stream",
     "text": [
      "feature1     0\n",
      "feature2     0\n",
      "feature3     0\n",
      "feature4     0\n",
      "feature5     0\n",
      "feature6     0\n",
      "feature7     0\n",
      "feature8     0\n",
      "feature9     0\n",
      "feature10    0\n",
      "feature11    0\n",
      "feature12    0\n",
      "feature13    0\n",
      "feature14    0\n",
      "feature15    0\n",
      "feature16    0\n",
      "feature17    0\n",
      "feature18    0\n",
      "feature19    0\n",
      "feature20    0\n",
      "feature21    0\n",
      "feature22    0\n",
      "feature23    0\n",
      "feature24    0\n",
      "feature25    0\n",
      "feature26    0\n",
      "feature27    0\n",
      "feature28    0\n",
      "feature29    0\n",
      "feature30    0\n",
      "feature31    0\n",
      "feature32    0\n",
      "feature33    0\n",
      "feature34    0\n",
      "label        0\n",
      "dtype: int64\n"
     ]
    }
   ],
   "source": [
    "print(data.isnull().sum())"
   ]
  },
  {
   "cell_type": "code",
   "execution_count": 6,
   "metadata": {},
   "outputs": [],
   "source": [
    "# split into input (X) and output (Y) variables\n",
    "\n",
    "X = data.values[1:,0:34].astype(float)\n",
    "Y = data.values[1:,34]\n",
    "# encode class values as integers\n",
    "encoder = LabelEncoder()\n",
    "encoder.fit(Y)\n",
    "Y = encoder.transform(Y)"
   ]
  },
  {
   "cell_type": "code",
   "execution_count": 7,
   "metadata": {},
   "outputs": [
    {
     "name": "stdout",
     "output_type": "stream",
     "text": [
      "Number transactions X_train dataset:  (280, 34)\n",
      "Number transactions y_train dataset:  (280,)\n",
      "Number transactions X_test dataset:  (70, 34)\n",
      "Number transactions y_test dataset:  (70,)\n"
     ]
    }
   ],
   "source": [
    "from sklearn.model_selection import train_test_split\n",
    "\n",
    "X_train, X_test, y_train, y_test = train_test_split(X, Y, test_size=0.2, random_state=0)\n",
    "\n",
    "print(\"Number transactions X_train dataset: \", X_train.shape)\n",
    "print(\"Number transactions y_train dataset: \", y_train.shape)\n",
    "print(\"Number transactions X_test dataset: \", X_test.shape)\n",
    "print(\"Number transactions y_test dataset: \", y_test.shape)"
   ]
  },
  {
   "cell_type": "code",
   "execution_count": 8,
   "metadata": {},
   "outputs": [
    {
     "name": "stdout",
     "output_type": "stream",
     "text": [
      "Before OverSampling, counts of label '1': 180\n",
      "Before OverSampling, counts of label '0': 100 \n",
      "\n",
      "After OverSampling, the shape of train_X: (360, 34)\n",
      "After OverSampling, the shape of train_y: (360,) \n",
      "\n",
      "After OverSampling, counts of label '1': 180\n",
      "After OverSampling, counts of label '0': 180\n"
     ]
    }
   ],
   "source": [
    "from imblearn.over_sampling import SMOTE\n",
    "print(\"Before OverSampling, counts of label '1': {}\".format(sum(y_train==1)))\n",
    "print(\"Before OverSampling, counts of label '0': {} \\n\".format(sum(y_train==0)))\n",
    "\n",
    "sm = SMOTE(random_state=2)\n",
    "X_train_res, y_train_res = sm.fit_sample(X_train, y_train.ravel())\n",
    "\n",
    "print('After OverSampling, the shape of train_X: {}'.format(X_train_res.shape))\n",
    "print('After OverSampling, the shape of train_y: {} \\n'.format(y_train_res.shape))\n",
    "\n",
    "print(\"After OverSampling, counts of label '1': {}\".format(sum(y_train_res==1)))\n",
    "print(\"After OverSampling, counts of label '0': {}\".format(sum(y_train_res==0)))"
   ]
  },
  {
   "cell_type": "code",
   "execution_count": 9,
   "metadata": {},
   "outputs": [
    {
     "name": "stdout",
     "output_type": "stream",
     "text": [
      "2.3.1\n"
     ]
    }
   ],
   "source": [
    "# TensorFlow and tf.keras\n",
    "import tensorflow as tf\n",
    "\n",
    "# Helper libraries\n",
    "import numpy as np\n",
    "import matplotlib.pyplot as plt\n",
    "\n",
    "print(tf.__version__)"
   ]
  },
  {
   "cell_type": "code",
   "execution_count": 10,
   "metadata": {},
   "outputs": [],
   "source": [
    "model = tf.keras.Sequential([\n",
    "    tf.keras.layers.Dense(256, activation='relu'),\n",
    "    tf.keras.layers.Dense(128, activation='relu'),\n",
    "    tf.keras.layers.Dense(1)\n",
    "])"
   ]
  },
  {
   "cell_type": "code",
   "execution_count": 11,
   "metadata": {},
   "outputs": [],
   "source": [
    "model.compile(optimizer='adam',\n",
    "              loss='mean_absolute_error',\n",
    "              metrics=['accuracy'])"
   ]
  },
  {
   "cell_type": "code",
   "execution_count": 12,
   "metadata": {},
   "outputs": [
    {
     "name": "stdout",
     "output_type": "stream",
     "text": [
      "Epoch 1/90\n",
      "12/12 [==============================] - 0s 2ms/step - loss: 0.3262 - accuracy: 0.7444\n",
      "Epoch 2/90\n",
      "12/12 [==============================] - 0s 2ms/step - loss: 0.2232 - accuracy: 0.8944\n",
      "Epoch 3/90\n",
      "12/12 [==============================] - 0s 1ms/step - loss: 0.1761 - accuracy: 0.9361\n",
      "Epoch 4/90\n",
      "12/12 [==============================] - 0s 2ms/step - loss: 0.1659 - accuracy: 0.9417\n",
      "Epoch 5/90\n",
      "12/12 [==============================] - 0s 2ms/step - loss: 0.1460 - accuracy: 0.9472\n",
      "Epoch 6/90\n",
      "12/12 [==============================] - 0s 1ms/step - loss: 0.1392 - accuracy: 0.9611\n",
      "Epoch 7/90\n",
      "12/12 [==============================] - 0s 2ms/step - loss: 0.1397 - accuracy: 0.9694\n",
      "Epoch 8/90\n",
      "12/12 [==============================] - 0s 2ms/step - loss: 0.1396 - accuracy: 0.9667\n",
      "Epoch 9/90\n",
      "12/12 [==============================] - 0s 2ms/step - loss: 0.1186 - accuracy: 0.9750\n",
      "Epoch 10/90\n",
      "12/12 [==============================] - 0s 2ms/step - loss: 0.1144 - accuracy: 0.9694\n",
      "Epoch 11/90\n",
      "12/12 [==============================] - 0s 2ms/step - loss: 0.1077 - accuracy: 0.9722\n",
      "Epoch 12/90\n",
      "12/12 [==============================] - 0s 1ms/step - loss: 0.1081 - accuracy: 0.9722\n",
      "Epoch 13/90\n",
      "12/12 [==============================] - 0s 1ms/step - loss: 0.1173 - accuracy: 0.9722\n",
      "Epoch 14/90\n",
      "12/12 [==============================] - 0s 2ms/step - loss: 0.1047 - accuracy: 0.9750\n",
      "Epoch 15/90\n",
      "12/12 [==============================] - 0s 1ms/step - loss: 0.0920 - accuracy: 0.9778\n",
      "Epoch 16/90\n",
      "12/12 [==============================] - 0s 2ms/step - loss: 0.0899 - accuracy: 0.9750\n",
      "Epoch 17/90\n",
      "12/12 [==============================] - 0s 2ms/step - loss: 0.0881 - accuracy: 0.9722\n",
      "Epoch 18/90\n",
      "12/12 [==============================] - 0s 2ms/step - loss: 0.0862 - accuracy: 0.9750\n",
      "Epoch 19/90\n",
      "12/12 [==============================] - 0s 2ms/step - loss: 0.0752 - accuracy: 0.9778\n",
      "Epoch 20/90\n",
      "12/12 [==============================] - 0s 2ms/step - loss: 0.0772 - accuracy: 0.9778\n",
      "Epoch 21/90\n",
      "12/12 [==============================] - 0s 2ms/step - loss: 0.0815 - accuracy: 0.9778\n",
      "Epoch 22/90\n",
      "12/12 [==============================] - 0s 2ms/step - loss: 0.0822 - accuracy: 0.9778\n",
      "Epoch 23/90\n",
      "12/12 [==============================] - 0s 2ms/step - loss: 0.0851 - accuracy: 0.9806\n",
      "Epoch 24/90\n",
      "12/12 [==============================] - 0s 2ms/step - loss: 0.0795 - accuracy: 0.9806\n",
      "Epoch 25/90\n",
      "12/12 [==============================] - 0s 2ms/step - loss: 0.0809 - accuracy: 0.9778\n",
      "Epoch 26/90\n",
      "12/12 [==============================] - 0s 1ms/step - loss: 0.0669 - accuracy: 0.9806\n",
      "Epoch 27/90\n",
      "12/12 [==============================] - 0s 2ms/step - loss: 0.0704 - accuracy: 0.9806\n",
      "Epoch 28/90\n",
      "12/12 [==============================] - 0s 1ms/step - loss: 0.0692 - accuracy: 0.9806\n",
      "Epoch 29/90\n",
      "12/12 [==============================] - 0s 2ms/step - loss: 0.0714 - accuracy: 0.9806\n",
      "Epoch 30/90\n",
      "12/12 [==============================] - 0s 2ms/step - loss: 0.0716 - accuracy: 0.9806\n",
      "Epoch 31/90\n",
      "12/12 [==============================] - 0s 2ms/step - loss: 0.0700 - accuracy: 0.9833\n",
      "Epoch 32/90\n",
      "12/12 [==============================] - 0s 2ms/step - loss: 0.0810 - accuracy: 0.9833\n",
      "Epoch 33/90\n",
      "12/12 [==============================] - 0s 2ms/step - loss: 0.0774 - accuracy: 0.9806\n",
      "Epoch 34/90\n",
      "12/12 [==============================] - 0s 2ms/step - loss: 0.0845 - accuracy: 0.9833\n",
      "Epoch 35/90\n",
      "12/12 [==============================] - 0s 2ms/step - loss: 0.0743 - accuracy: 0.9806\n",
      "Epoch 36/90\n",
      "12/12 [==============================] - 0s 1ms/step - loss: 0.0684 - accuracy: 0.9806\n",
      "Epoch 37/90\n",
      "12/12 [==============================] - 0s 2ms/step - loss: 0.0681 - accuracy: 0.9833\n",
      "Epoch 38/90\n",
      "12/12 [==============================] - 0s 2ms/step - loss: 0.0627 - accuracy: 0.9833\n",
      "Epoch 39/90\n",
      "12/12 [==============================] - 0s 2ms/step - loss: 0.0824 - accuracy: 0.9778\n",
      "Epoch 40/90\n",
      "12/12 [==============================] - 0s 2ms/step - loss: 0.0782 - accuracy: 0.9833\n",
      "Epoch 41/90\n",
      "12/12 [==============================] - 0s 2ms/step - loss: 0.0635 - accuracy: 0.9806\n",
      "Epoch 42/90\n",
      "12/12 [==============================] - 0s 1ms/step - loss: 0.0675 - accuracy: 0.9833\n",
      "Epoch 43/90\n",
      "12/12 [==============================] - 0s 2ms/step - loss: 0.0702 - accuracy: 0.9833\n",
      "Epoch 44/90\n",
      "12/12 [==============================] - 0s 1ms/step - loss: 0.0632 - accuracy: 0.9833\n",
      "Epoch 45/90\n",
      "12/12 [==============================] - 0s 2ms/step - loss: 0.0563 - accuracy: 0.9861\n",
      "Epoch 46/90\n",
      "12/12 [==============================] - 0s 2ms/step - loss: 0.0560 - accuracy: 0.9833\n",
      "Epoch 47/90\n",
      "12/12 [==============================] - 0s 2ms/step - loss: 0.0531 - accuracy: 0.9833\n",
      "Epoch 48/90\n",
      "12/12 [==============================] - 0s 2ms/step - loss: 0.0501 - accuracy: 0.9889\n",
      "Epoch 49/90\n",
      "12/12 [==============================] - 0s 2ms/step - loss: 0.0629 - accuracy: 0.9889\n",
      "Epoch 50/90\n",
      "12/12 [==============================] - 0s 2ms/step - loss: 0.0615 - accuracy: 0.9889\n",
      "Epoch 51/90\n",
      "12/12 [==============================] - 0s 1ms/step - loss: 0.0540 - accuracy: 0.9889\n",
      "Epoch 52/90\n",
      "12/12 [==============================] - 0s 2ms/step - loss: 0.0529 - accuracy: 0.9889\n",
      "Epoch 53/90\n",
      "12/12 [==============================] - 0s 2ms/step - loss: 0.0563 - accuracy: 0.9917\n",
      "Epoch 54/90\n",
      "12/12 [==============================] - 0s 2ms/step - loss: 0.0523 - accuracy: 0.9917\n",
      "Epoch 55/90\n",
      "12/12 [==============================] - 0s 2ms/step - loss: 0.0632 - accuracy: 0.9917\n",
      "Epoch 56/90\n",
      "12/12 [==============================] - 0s 2ms/step - loss: 0.0527 - accuracy: 0.9917\n",
      "Epoch 57/90\n",
      "12/12 [==============================] - 0s 2ms/step - loss: 0.0464 - accuracy: 0.9889\n",
      "Epoch 58/90\n",
      "12/12 [==============================] - 0s 2ms/step - loss: 0.0531 - accuracy: 0.9861\n",
      "Epoch 59/90\n",
      "12/12 [==============================] - 0s 2ms/step - loss: 0.0425 - accuracy: 0.9917\n",
      "Epoch 60/90\n",
      "12/12 [==============================] - 0s 2ms/step - loss: 0.0463 - accuracy: 0.9889\n",
      "Epoch 61/90\n",
      "12/12 [==============================] - 0s 2ms/step - loss: 0.0440 - accuracy: 0.9917\n",
      "Epoch 62/90\n",
      "12/12 [==============================] - 0s 2ms/step - loss: 0.0412 - accuracy: 0.9917\n",
      "Epoch 63/90\n",
      "12/12 [==============================] - 0s 2ms/step - loss: 0.0382 - accuracy: 0.9917\n",
      "Epoch 64/90\n",
      "12/12 [==============================] - 0s 1ms/step - loss: 0.0461 - accuracy: 0.9917\n",
      "Epoch 65/90\n",
      "12/12 [==============================] - 0s 2ms/step - loss: 0.0433 - accuracy: 0.9917\n",
      "Epoch 66/90\n",
      "12/12 [==============================] - 0s 2ms/step - loss: 0.0514 - accuracy: 0.9917\n",
      "Epoch 67/90\n",
      "12/12 [==============================] - 0s 2ms/step - loss: 0.0505 - accuracy: 0.9917\n",
      "Epoch 68/90\n",
      "12/12 [==============================] - 0s 2ms/step - loss: 0.0566 - accuracy: 0.9917\n",
      "Epoch 69/90\n",
      "12/12 [==============================] - 0s 2ms/step - loss: 0.0570 - accuracy: 0.9889\n",
      "Epoch 70/90\n",
      "12/12 [==============================] - 0s 2ms/step - loss: 0.0519 - accuracy: 0.9917\n",
      "Epoch 71/90\n",
      "12/12 [==============================] - 0s 2ms/step - loss: 0.0463 - accuracy: 0.9917\n",
      "Epoch 72/90\n",
      "12/12 [==============================] - 0s 2ms/step - loss: 0.0446 - accuracy: 0.9917\n",
      "Epoch 73/90\n",
      "12/12 [==============================] - 0s 1ms/step - loss: 0.0481 - accuracy: 0.9917\n",
      "Epoch 74/90\n",
      "12/12 [==============================] - 0s 2ms/step - loss: 0.0456 - accuracy: 0.9917\n",
      "Epoch 75/90\n",
      "12/12 [==============================] - 0s 1ms/step - loss: 0.0471 - accuracy: 0.9917\n",
      "Epoch 76/90\n",
      "12/12 [==============================] - 0s 1ms/step - loss: 0.0454 - accuracy: 0.9917\n",
      "Epoch 77/90\n",
      "12/12 [==============================] - 0s 2ms/step - loss: 0.0397 - accuracy: 0.9917\n",
      "Epoch 78/90\n",
      "12/12 [==============================] - 0s 2ms/step - loss: 0.0394 - accuracy: 0.9917\n",
      "Epoch 79/90\n",
      "12/12 [==============================] - 0s 6ms/step - loss: 0.0472 - accuracy: 0.9917\n",
      "Epoch 80/90\n",
      "12/12 [==============================] - ETA: 0s - loss: 0.0425 - accuracy: 1.00 - 0s 2ms/step - loss: 0.0441 - accuracy: 0.9917\n",
      "Epoch 81/90\n",
      "12/12 [==============================] - 0s 2ms/step - loss: 0.0391 - accuracy: 0.9917\n",
      "Epoch 82/90\n",
      "12/12 [==============================] - 0s 2ms/step - loss: 0.0380 - accuracy: 0.9917\n",
      "Epoch 83/90\n",
      "12/12 [==============================] - 0s 2ms/step - loss: 0.0430 - accuracy: 0.9917\n",
      "Epoch 84/90\n",
      "12/12 [==============================] - 0s 2ms/step - loss: 0.0458 - accuracy: 0.9917\n",
      "Epoch 85/90\n",
      "12/12 [==============================] - 0s 2ms/step - loss: 0.0450 - accuracy: 0.9917\n",
      "Epoch 86/90\n",
      "12/12 [==============================] - 0s 2ms/step - loss: 0.0570 - accuracy: 0.9917\n",
      "Epoch 87/90\n",
      "12/12 [==============================] - 0s 2ms/step - loss: 0.0519 - accuracy: 0.9917\n",
      "Epoch 88/90\n",
      "12/12 [==============================] - 0s 2ms/step - loss: 0.0472 - accuracy: 0.9917\n",
      "Epoch 89/90\n",
      "12/12 [==============================] - 0s 2ms/step - loss: 0.0413 - accuracy: 0.9917\n",
      "Epoch 90/90\n",
      "12/12 [==============================] - 0s 2ms/step - loss: 0.0371 - accuracy: 0.9917\n"
     ]
    },
    {
     "data": {
      "text/plain": [
       "<tensorflow.python.keras.callbacks.History at 0x7f343830bc50>"
      ]
     },
     "execution_count": 12,
     "metadata": {},
     "output_type": "execute_result"
    }
   ],
   "source": [
    "model.fit(X_train_res,y_train_res , epochs=90)"
   ]
  },
  {
   "cell_type": "code",
   "execution_count": 13,
   "metadata": {},
   "outputs": [
    {
     "name": "stdout",
     "output_type": "stream",
     "text": [
      "3/3 - 0s - loss: 0.1113 - accuracy: 1.0000\n",
      "\n",
      "Test accuracy: 1.0\n"
     ]
    }
   ],
   "source": [
    "test_loss, test_acc = model.evaluate(X_test,  y_test, verbose=2)\n",
    "\n",
    "print('\\nTest accuracy:', test_acc)\n"
   ]
  },
  {
   "cell_type": "code",
   "execution_count": 16,
   "metadata": {},
   "outputs": [],
   "source": [
    "ypr=model.predict(X_test)"
   ]
  },
  {
   "cell_type": "code",
   "execution_count": 20,
   "metadata": {},
   "outputs": [],
   "source": [
    "ypr=(ypr<0.5)*1"
   ]
  },
  {
   "cell_type": "code",
   "execution_count": 24,
   "metadata": {},
   "outputs": [
    {
     "data": {
      "text/plain": [
       "(70,)"
      ]
     },
     "execution_count": 24,
     "metadata": {},
     "output_type": "execute_result"
    }
   ],
   "source": [
    "ypre= np.ravel(ypr)\n",
    "ypre.shape"
   ]
  },
  {
   "cell_type": "code",
   "execution_count": 25,
   "metadata": {},
   "outputs": [
    {
     "name": "stdout",
     "output_type": "stream",
     "text": [
      "[[26  0]\n",
      " [ 0 44]]\n",
      "              precision    recall  f1-score   support\n",
      "\n",
      "           0       1.00      1.00      1.00        26\n",
      "           1       1.00      1.00      1.00        44\n",
      "\n",
      "    accuracy                           1.00        70\n",
      "   macro avg       1.00      1.00      1.00        70\n",
      "weighted avg       1.00      1.00      1.00        70\n",
      "\n"
     ]
    }
   ],
   "source": [
    "from sklearn.metrics import classification_report, confusion_matrix\n",
    "print(confusion_matrix(y_test,ypre))\n",
    "print(classification_report(y_test,ypre))"
   ]
  },
  {
   "cell_type": "code",
   "execution_count": null,
   "metadata": {},
   "outputs": [],
   "source": [
    "y_test.shape"
   ]
  }
 ],
 "metadata": {
  "kernelspec": {
   "display_name": "Python 3",
   "language": "python",
   "name": "python3"
  },
  "language_info": {
   "codemirror_mode": {
    "name": "ipython",
    "version": 3
   },
   "file_extension": ".py",
   "mimetype": "text/x-python",
   "name": "python",
   "nbconvert_exporter": "python",
   "pygments_lexer": "ipython3",
   "version": "3.7.4"
  }
 },
 "nbformat": 4,
 "nbformat_minor": 4
}
